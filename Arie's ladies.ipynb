{
 "cells": [
  {
   "cell_type": "code",
   "execution_count": 1,
   "metadata": {
    "collapsed": true
   },
   "outputs": [],
   "source": [
    "import numpy as np"
   ]
  },
  {
   "cell_type": "code",
   "execution_count": 12,
   "metadata": {
    "collapsed": true
   },
   "outputs": [],
   "source": [
    "ages_wk0 = np.array([27, 22, 26, 26, 25, 27, 26, 27, 29, 32, 25, 30, 25, 27, 30, 26, 29, 28, 25, 26, 29, 26, 33, 31, 23, 27, 30, 23, 25])\n",
    "ages_wk1 = np.array([27, 22, 26, 26, 25, 27, 26, 29, 28, 30, 25, 23, 27, 30, 26, 30, 32, 31, 25, 26, 25])\n",
    "ages_wk2 = np.array([27, 22, 26, 26, 25, 27, 26, 29, 28, 30, 25, 23, 27, 30, 26, 30, 32, 31])\n",
    "ages_wk3 = np.array([27, 22, 26, 26, 25, 27, 26, 29, 28, 30, 25, 23, 27, 30, 26])\n",
    "ages_wk4 = np.array([27, 22, 26, 26, 25, 27, 26, 29, 28, 30, 25, 23, 27])\n",
    "ages_wk5 = np.array([27, 22, 26, 26, 25, 27, 26, 29, 28, 30])\n",
    "ages_wk6 = np.array([27, 22, 26, 26, 25, 27, 26])"
   ]
  },
  {
   "cell_type": "code",
   "execution_count": 13,
   "metadata": {},
   "outputs": [
    {
     "name": "stdout",
     "output_type": "stream",
     "text": [
      "(29,)\n",
      "(21,)\n",
      "(18,)\n",
      "(15,)\n",
      "(13,)\n",
      "(10,)\n",
      "(7,)\n"
     ]
    }
   ],
   "source": [
    "ages_list = [ages_wk0, ages_wk1, ages_wk2, ages_wk3, ages_wk4, ages_wk5, ages_wk6]\n",
    "for ages in ages_list:\n",
    "    print(ages.shape)"
   ]
  },
  {
   "cell_type": "code",
   "execution_count": 28,
   "metadata": {},
   "outputs": [
    {
     "name": "stdout",
     "output_type": "stream",
     "text": [
      "Week 0 : 27.0689655172\n",
      "Week 1 : 26.9523809524\n",
      "Week 2 : 27.2222222222\n",
      "Week 3 : 26.4666666667\n",
      "Week 4 : 26.2307692308\n",
      "Week 5 : 26.6\n",
      "Week 6 : 25.5714285714\n",
      "<class 'numpy.ndarray'>\n",
      "[[  0.          27.06896552]\n",
      " [  1.          26.95238095]\n",
      " [  2.          27.22222222]\n",
      " [  3.          26.46666667]\n",
      " [  4.          26.23076923]\n",
      " [  5.          26.6       ]\n",
      " [  6.          25.57142857]]\n"
     ]
    }
   ],
   "source": [
    "ages_mean = []\n",
    "for i,ages in enumerate(ages_list):\n",
    "    print(\"Week\", i, \":\", ages.mean())\n",
    "    ages_mean.append(ages.mean())\n",
    "\n",
    "ages_mean = np.array(ages_mean).reshape(7, 1)\n",
    "weeks = np.arange(0,7).reshape(7,1)\n",
    "ages_mean = np.hstack((weeks, ages_mean))\n",
    "print(type(ages_mean))\n",
    "print(ages_mean)"
   ]
  },
  {
   "cell_type": "code",
   "execution_count": 30,
   "metadata": {},
   "outputs": [
    {
     "data": {
      "image/png": "[encoded data removed]",
      "text/plain": [
       "<matplotlib.figure.Figure at 0x106ecc4a8>"
      ]
     },
     "metadata": {},
     "output_type": "display_data"
    }
   ],
   "source": [
    "%matplotlib inline\n",
    "import matplotlib.pyplot as plt\n",
    "plt.scatter(ages_mean[:,0],ages_mean[:,1])\n",
    "plt.xlabel(\"Week\")\n",
    "plt.ylabel(\"Average Age\")\n",
    "plt.title(\"Average Age of Ladies per week - Arie's Season\")\n",
    "plt.show()"
   ]
  },
  {
   "cell_type": "code",
   "execution_count": 5,
   "metadata": {},
   "outputs": [
    {
     "name": "stdout",
     "output_type": "stream",
     "text": [
      "[27 22 26 26 25 27 26]\n"
     ]
    }
   ],
   "source": [
    "final_seven = ages[0:7]\n",
    "print(final_seven)"
   ]
  },
  {
   "cell_type": "code",
   "execution_count": 6,
   "metadata": {},
   "outputs": [
    {
     "data": {
      "text/plain": [
       "25.571428571428573"
      ]
     },
     "execution_count": 6,
     "metadata": {},
     "output_type": "execute_result"
    }
   ],
   "source": [
    "final_seven.mean()"
   ]
  },
  {
   "cell_type": "code",
   "execution_count": 8,
   "metadata": {},
   "outputs": [
    {
     "data": {
      "text/plain": [
       "26.0"
      ]
     },
     "execution_count": 8,
     "metadata": {},
     "output_type": "execute_result"
    }
   ],
   "source": [
    "np.median(final_seven)"
   ]
  },
  {
   "cell_type": "code",
   "execution_count": 9,
   "metadata": {},
   "outputs": [
    {
     "data": {
      "text/plain": [
       "27.0"
      ]
     },
     "execution_count": 9,
     "metadata": {},
     "output_type": "execute_result"
    }
   ],
   "source": [
    "np.median(ages_wk0)"
   ]
  },
  {
   "cell_type": "code",
   "execution_count": 10,
   "metadata": {},
   "outputs": [
    {
     "data": {
      "text/plain": [
       "33"
      ]
     },
     "execution_count": 10,
     "metadata": {},
     "output_type": "execute_result"
    }
   ],
   "source": [
    "np.max(ages_wk0)"
   ]
  },
  {
   "cell_type": "code",
   "execution_count": 11,
   "metadata": {},
   "outputs": [
    {
     "data": {
      "text/plain": [
       "22"
      ]
     },
     "execution_count": 11,
     "metadata": {},
     "output_type": "execute_result"
    }
   ],
   "source": [
    "np.min(ages_wk0)"
   ]
  },
  {
   "cell_type": "code",
   "execution_count": 16,
   "metadata": {},
   "outputs": [
    {
     "data": {
      "text/plain": [
       "26.166666666666668"
      ]
     },
     "execution_count": 16,
     "metadata": {},
     "output_type": "execute_result"
    }
   ],
   "source": [
    "np.array([27, 26, 26, 25, 27, 26]).mean() #no Bekah M. (the 22 year old)"
   ]
  },
  {
   "cell_type": "code",
   "execution_count": null,
   "metadata": {
    "collapsed": true
   },
   "outputs": [],
   "source": []
  }
 ],
 "metadata": {
  "kernelspec": {
   "display_name": "Python 3",
   "language": "python",
   "name": "python3"
  },
  "language_info": {
   "codemirror_mode": {
    "name": "ipython",
    "version": 3
   },
   "file_extension": ".py",
   "mimetype": "text/x-python",
   "name": "python",
   "nbconvert_exporter": "python",
   "pygments_lexer": "ipython3",
   "version": "3.6.3"
  }
 },
 "nbformat": 4,
 "nbformat_minor": 2
}
